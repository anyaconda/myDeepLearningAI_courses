{
 "cells": [
  {
   "cell_type": "code",
   "execution_count": null,
   "id": "b265761f",
   "metadata": {},
   "outputs": [],
   "source": [
    "#3/8/2024 myDeepLearningAI course: Open Source Models with Hugging Face\n",
    "#Lesson 4: Sentence Similarity\n",
    "\n",
    "#infra: Trainbox + VSCode \n",
    "#      env: tc2-venv created by Blake\n",
    "#      confirmed Python 3.10.4\n",
    "#      numpy 1.24.2, pandas 2.0.0, added scikit-learn 1.2.2, req scipy\n",
    "#      [not any more pip 22.0.4], ipykernel 6.22.0, ipython 8.12.0\n",
    "#\n",
    "#for NNLM added\n",
    "#      tensorflow 2.15.0, tensorflow_hub 0.16.1\n",
    "#for HuggingFace added\n",
    "#      tqdm-4.66.2 huggingface-hub-0.21.1 [safetensors-0.4.2 tokenizers-0.15.2] transformers-4.38.1\n",
    "#need a lower version `ulrlib3` -> downgrade it with $ pip install requests==2.27.1 -> urllib3 1.26.18\n",
    "#needs pip 24.0\n",
    "#for HuggingFace Sentence Embeddings added\n",
    "#      sentence-transformers-2.5.1\n",
    "\n",
    "#history\n",
    "#3/8/2024 SENTENCE SIMILARITY\n",
    "#      Started with L4: Sentence Embeddings\n",
    "#      $delta0 myFix and myExperimentation\n",
    "\n",
    "#$network\n",
    "\n",
    "\n",
    "#References\n",
    "#DeepLearningAI course\n",
    "# refer to https://learn.deeplearning.ai/courses/open-source-models-hugging-face\n"
   ]
  },
  {
   "cell_type": "code",
   "execution_count": 22,
   "id": "5cf6e281",
   "metadata": {},
   "outputs": [],
   "source": [
    "import os\n",
    "import sys\n",
    "import numpy as np\n",
    "\n",
    "from sentence_transformers import SentenceTransformer\n",
    "from sentence_transformers import util\n",
    "\n",
    "from sklearn.metrics import pairwise_distances_argmin as distances_argmin"
   ]
  },
  {
   "cell_type": "code",
   "execution_count": 2,
   "id": "bc4dc6b3",
   "metadata": {},
   "outputs": [],
   "source": [
    "#$network settings\n",
    "\n",
    "#set proxy needed to fix SSL error\n",
    "os.environ['REQUESTS_CA_BUNDLE'] = '../../myCreds/all_ca_certs.crt'\n",
    "# #os.environ['CURL_CA_BUNDLE'] = '../../myCreds/all_ca_certs.pem'\n",
    "\n",
    "proxy = 'http://devproxy01.chq.ei:8080' #'http://proxy-chq.gtm.chq.ei:8080'\n",
    "os.environ['http_proxy'] = proxy \n",
    "os.environ['HTTP_PROXY'] = proxy\n",
    "os.environ['https_proxy'] = proxy\n",
    "os.environ['HTTPS_PROXY'] = proxy"
   ]
  },
  {
   "cell_type": "code",
   "execution_count": 24,
   "id": "4e3c04ba",
   "metadata": {},
   "outputs": [
    {
     "name": "stdout",
     "output_type": "stream",
     "text": [
      "Python 3.10.4\n",
      "3.10.4 (tags/v3.10.4:9d38120, Mar 23 2022, 23:13:41) [MSC v.1929 64 bit (AMD64)]\n"
     ]
    }
   ],
   "source": [
    "!python -V\n",
    "print(sys.version)"
   ]
  },
  {
   "cell_type": "markdown",
   "id": "93de5736",
   "metadata": {},
   "source": [
    "# Lesson 4: Sentence Embeddings"
   ]
  },
  {
   "cell_type": "markdown",
   "id": "c9363203",
   "metadata": {},
   "source": [
    "- In the classroom, the libraries are already installed for you.\n",
    "- If you would like to run this code on your own machine, you can install the following:\n",
    "``` \n",
    "    !pip install sentence-transformers\n",
    "```"
   ]
  },
  {
   "cell_type": "markdown",
   "id": "632f7aac-6786-4ea6-8fa3-25a6cebbd2e5",
   "metadata": {},
   "source": [
    "- Here is some code that suppresses warning messages."
   ]
  },
  {
   "cell_type": "code",
   "execution_count": 3,
   "id": "058015a6-19cf-4f80-940d-f4af86cb589c",
   "metadata": {
    "height": 62
   },
   "outputs": [
    {
     "name": "stderr",
     "output_type": "stream",
     "text": [
      "e:\\chq-anya\\myGitrepo\\try-catch-2\\tc2-venv\\lib\\site-packages\\tqdm\\auto.py:21: TqdmWarning: IProgress not found. Please update jupyter and ipywidgets. See https://ipywidgets.readthedocs.io/en/stable/user_install.html\n",
      "  from .autonotebook import tqdm as notebook_tqdm\n"
     ]
    }
   ],
   "source": [
    "# from transformers.utils import logging\n",
    "# logging.set_verbosity_error()"
   ]
  },
  {
   "cell_type": "markdown",
   "id": "c35a8e72",
   "metadata": {},
   "source": [
    "### Build the `sentence embedding` pipeline using 🤗 Transformers Library"
   ]
  },
  {
   "cell_type": "code",
   "execution_count": 5,
   "id": "dd5dbb50-8c36-456c-ac0e-f724429c4b7f",
   "metadata": {
    "height": 45
   },
   "outputs": [],
   "source": [
    "model = SentenceTransformer(\"all-MiniLM-L12-v2\") #all-MiniLM-L6-v2"
   ]
  },
  {
   "cell_type": "markdown",
   "id": "cad701ed",
   "metadata": {},
   "source": [
    "More info on [all-MiniLM-L6-v2](https://huggingface.co/sentence-transformers/all-MiniLM-L6-v2)."
   ]
  },
  {
   "cell_type": "code",
   "execution_count": 6,
   "id": "fe7d23e0-5e68-4537-8dd8-eb125e1a6820",
   "metadata": {
    "height": 79
   },
   "outputs": [],
   "source": [
    "sentences1 = ['The cat sits outside',\n",
    "              'A man is playing guitar',\n",
    "              'The movies are awesome']"
   ]
  },
  {
   "cell_type": "code",
   "execution_count": 7,
   "id": "c33db645-edd8-4a28-a06f-e0fd8200f27f",
   "metadata": {
    "height": 45
   },
   "outputs": [],
   "source": [
    "embeddings1 = model.encode(sentences1, convert_to_tensor=True)\n",
    "embeddings1"
   ]
  },
  {
   "cell_type": "code",
   "execution_count": 8,
   "id": "75de3f4a-bd8e-41d6-847b-9a3a043adeeb",
   "metadata": {
    "height": 30
   },
   "outputs": [
    {
     "data": {
      "text/plain": [
       "tensor([[ 0.1733, -0.0505, -0.0035,  ..., -0.0032, -0.0040,  0.0507],\n",
       "        [-0.0059, -0.0690, -0.0538,  ..., -0.0683,  0.0289, -0.0066],\n",
       "        [-0.0910, -0.0705,  0.0082,  ..., -0.0132,  0.1260, -0.0543]])"
      ]
     },
     "execution_count": 8,
     "metadata": {},
     "output_type": "execute_result"
    }
   ],
   "source": []
  },
  {
   "cell_type": "code",
   "execution_count": 9,
   "id": "5136886d-80d4-4a3a-a68e-692c25496b51",
   "metadata": {
    "height": 79
   },
   "outputs": [],
   "source": [
    "sentences2 = ['The dog plays in the garden',\n",
    "              'A woman watches TV',\n",
    "              'The new movie is so great']\n",
    "\n",
    "# sentences2 = ['A woman watches TV',\n",
    "#               'The new movie is so great',\n",
    "#               'The dog plays in the garden']"
   ]
  },
  {
   "cell_type": "code",
   "execution_count": 10,
   "id": "c7e0c68f",
   "metadata": {
    "height": 62
   },
   "outputs": [],
   "source": [
    "embeddings2 = model.encode(sentences2, convert_to_tensor=True)\n",
    "embeddings2"
   ]
  },
  {
   "cell_type": "markdown",
   "id": "41c3d585",
   "metadata": {},
   "source": [
    "* Calculate the cosine similarity between two sentences as a measure of how similar they are to each other."
   ]
  },
  {
   "cell_type": "code",
   "execution_count": 13,
   "id": "39c1f4f3-94ad-4b5e-a40d-c4ba8277815b",
   "metadata": {
    "height": 45
   },
   "outputs": [],
   "source": [
    "cosine_scores = util.cos_sim(embeddings1,embeddings2)\n",
    "print(cosine_scores)"
   ]
  },
  {
   "cell_type": "code",
   "execution_count": 15,
   "id": "fae8571e-2dea-4872-b244-342731b949de",
   "metadata": {
    "height": 96
   },
   "outputs": [
    {
     "name": "stdout",
     "output_type": "stream",
     "text": [
      "The cat sits outside \t\t The dog plays in the garden \t\t Score: 0.2733\n",
      "A man is playing guitar \t\t A woman watches TV \t\t Score: -0.0123\n",
      "The movies are awesome \t\t The new movie is so great \t\t Score: 0.6399\n"
     ]
    }
   ],
   "source": [
    "#delta0: myValidate fails\n",
    "for i in range(len(sentences1)):\n",
    "    print(\"{} \\t\\t {} \\t\\t Score: {:.4f}\".format(sentences1[i],\n",
    "                                                 sentences2[i],\n",
    "                                                 cosine_scores[i][i]))"
   ]
  },
  {
   "cell_type": "markdown",
   "id": "49863f4c",
   "metadata": {},
   "source": [
    "### myFix and myValidate\n",
    "delta0: instead of diagonal values, look for `argmin`  \n",
    "Refer to prev DeepLearningAI course"
   ]
  },
  {
   "cell_type": "code",
   "execution_count": 16,
   "id": "9067ac9c",
   "metadata": {},
   "outputs": [
    {
     "data": {
      "text/plain": [
       "tensor(8)"
      ]
     },
     "execution_count": 16,
     "metadata": {},
     "output_type": "execute_result"
    }
   ],
   "source": [
    "# idx_doc_cosine = np.argmax(cosine_scores)\n",
    "# idx_doc_cosine"
   ]
  },
  {
   "cell_type": "code",
   "execution_count": 17,
   "id": "b1a9c16b",
   "metadata": {},
   "outputs": [
    {
     "data": {
      "text/plain": [
       "array([0, 0, 2], dtype=int64)"
      ]
     },
     "execution_count": 17,
     "metadata": {},
     "output_type": "execute_result"
    }
   ],
   "source": [
    "idx_doc_distances = distances_argmin(embeddings1, embeddings2)\n",
    "idx_doc_distances"
   ]
  },
  {
   "cell_type": "code",
   "execution_count": 18,
   "id": "3d8cdb5d",
   "metadata": {},
   "outputs": [
    {
     "name": "stdout",
     "output_type": "stream",
     "text": [
      "The cat sits outside \t\t The dog plays in the garden \t\t Min distance to: 0\n",
      "A man is playing guitar \t\t The dog plays in the garden \t\t Min distance to: 0\n",
      "The movies are awesome \t\t The new movie is so great \t\t Min distance to: 2\n"
     ]
    }
   ],
   "source": [
    "for i in range(len(sentences1)):\n",
    "    print(\"{} \\t\\t {} \\t\\t Min distance to: {}\".format(sentences1[i],\n",
    "                                                    sentences2[idx_doc_distances[i]],\n",
    "                                                    idx_doc_distances[i])) "
   ]
  },
  {
   "cell_type": "code",
   "execution_count": 19,
   "metadata": {},
   "outputs": [
    {
     "data": {
      "text/plain": [
       "array([0, 0, 2], dtype=int64)"
      ]
     },
     "execution_count": 19,
     "metadata": {},
     "output_type": "execute_result"
    }
   ],
   "source": [
    "idx_doc_distances2 = distances_argmin(embeddings2, embeddings1)\n",
    "idx_doc_distances2"
   ]
  },
  {
   "cell_type": "code",
   "execution_count": 20,
   "id": "3c8f0f20",
   "metadata": {},
   "outputs": [
    {
     "name": "stdout",
     "output_type": "stream",
     "text": [
      "The dog plays in the garden \t\t The cat sits outside \t\t Min distance to: 0\n",
      "A woman watches TV \t\t The cat sits outside \t\t Min distance to: 0\n",
      "The new movie is so great \t\t The movies are awesome \t\t Min distance to: 2\n"
     ]
    }
   ],
   "source": [
    "for i in range(len(sentences2)):\n",
    "    print(\"{} \\t\\t {} \\t\\t Min distance to: {}\".format(sentences2[i],\n",
    "                                                    sentences1[idx_doc_distances2[i]],\n",
    "                                                    idx_doc_distances2[i]))"
   ]
  }
 ],
 "metadata": {
  "kernelspec": {
   "display_name": "Python 3 (ipykernel)",
   "language": "python",
   "name": "python3"
  },
  "language_info": {
   "codemirror_mode": {
    "name": "ipython",
    "version": 3
   },
   "file_extension": ".py",
   "mimetype": "text/x-python",
   "name": "python",
   "nbconvert_exporter": "python",
   "pygments_lexer": "ipython3",
   "version": "3.10.4"
  }
 },
 "nbformat": 4,
 "nbformat_minor": 5
}
